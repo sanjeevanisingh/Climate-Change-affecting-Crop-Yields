{
  "nbformat": 4,
  "nbformat_minor": 0,
  "metadata": {
    "colab": {
      "name": "Climate Change",
      "provenance": [],
      "collapsed_sections": []
    },
    "kernelspec": {
      "name": "python3",
      "display_name": "Python 3"
    },
    "language_info": {
      "name": "python"
    }
  },
  "cells": [
    {
      "cell_type": "code",
      "metadata": {
        "id": "knnE2rtggEo5"
      },
      "source": [
        "#import the libraries\n",
        "import pandas as pd\n",
        "import seaborn as sb\n",
        "import matplotlib.pyplot as plt\n",
        "\n"
      ],
      "execution_count": 39,
      "outputs": []
    },
    {
      "cell_type": "code",
      "metadata": {
        "id": "bNyhSBG6hRwq"
      },
      "source": [
        "df = pd.read_csv('/content/annual_csv.csv')"
      ],
      "execution_count": 40,
      "outputs": []
    },
    {
      "cell_type": "code",
      "metadata": {
        "colab": {
          "base_uri": "https://localhost:8080/",
          "height": 357
        },
        "id": "YqYkaEcDhjNm",
        "outputId": "986c6813-4b20-4080-b99d-1080678ca303"
      },
      "source": [
        "df.head(10)"
      ],
      "execution_count": 41,
      "outputs": [
        {
          "output_type": "execute_result",
          "data": {
            "text/html": [
              "<div>\n",
              "<style scoped>\n",
              "    .dataframe tbody tr th:only-of-type {\n",
              "        vertical-align: middle;\n",
              "    }\n",
              "\n",
              "    .dataframe tbody tr th {\n",
              "        vertical-align: top;\n",
              "    }\n",
              "\n",
              "    .dataframe thead th {\n",
              "        text-align: right;\n",
              "    }\n",
              "</style>\n",
              "<table border=\"1\" class=\"dataframe\">\n",
              "  <thead>\n",
              "    <tr style=\"text-align: right;\">\n",
              "      <th></th>\n",
              "      <th>Source</th>\n",
              "      <th>Year</th>\n",
              "      <th>Mean</th>\n",
              "    </tr>\n",
              "  </thead>\n",
              "  <tbody>\n",
              "    <tr>\n",
              "      <th>0</th>\n",
              "      <td>GCAG</td>\n",
              "      <td>2016</td>\n",
              "      <td>0.9363</td>\n",
              "    </tr>\n",
              "    <tr>\n",
              "      <th>1</th>\n",
              "      <td>GISTEMP</td>\n",
              "      <td>2016</td>\n",
              "      <td>0.9900</td>\n",
              "    </tr>\n",
              "    <tr>\n",
              "      <th>2</th>\n",
              "      <td>GCAG</td>\n",
              "      <td>2015</td>\n",
              "      <td>0.8998</td>\n",
              "    </tr>\n",
              "    <tr>\n",
              "      <th>3</th>\n",
              "      <td>GISTEMP</td>\n",
              "      <td>2015</td>\n",
              "      <td>0.8700</td>\n",
              "    </tr>\n",
              "    <tr>\n",
              "      <th>4</th>\n",
              "      <td>GCAG</td>\n",
              "      <td>2014</td>\n",
              "      <td>0.7408</td>\n",
              "    </tr>\n",
              "    <tr>\n",
              "      <th>5</th>\n",
              "      <td>GISTEMP</td>\n",
              "      <td>2014</td>\n",
              "      <td>0.7400</td>\n",
              "    </tr>\n",
              "    <tr>\n",
              "      <th>6</th>\n",
              "      <td>GCAG</td>\n",
              "      <td>2013</td>\n",
              "      <td>0.6679</td>\n",
              "    </tr>\n",
              "    <tr>\n",
              "      <th>7</th>\n",
              "      <td>GISTEMP</td>\n",
              "      <td>2013</td>\n",
              "      <td>0.6500</td>\n",
              "    </tr>\n",
              "    <tr>\n",
              "      <th>8</th>\n",
              "      <td>GCAG</td>\n",
              "      <td>2012</td>\n",
              "      <td>0.6240</td>\n",
              "    </tr>\n",
              "    <tr>\n",
              "      <th>9</th>\n",
              "      <td>GISTEMP</td>\n",
              "      <td>2012</td>\n",
              "      <td>0.6300</td>\n",
              "    </tr>\n",
              "  </tbody>\n",
              "</table>\n",
              "</div>"
            ],
            "text/plain": [
              "    Source  Year    Mean\n",
              "0     GCAG  2016  0.9363\n",
              "1  GISTEMP  2016  0.9900\n",
              "2     GCAG  2015  0.8998\n",
              "3  GISTEMP  2015  0.8700\n",
              "4     GCAG  2014  0.7408\n",
              "5  GISTEMP  2014  0.7400\n",
              "6     GCAG  2013  0.6679\n",
              "7  GISTEMP  2013  0.6500\n",
              "8     GCAG  2012  0.6240\n",
              "9  GISTEMP  2012  0.6300"
            ]
          },
          "metadata": {},
          "execution_count": 41
        }
      ]
    },
    {
      "cell_type": "code",
      "metadata": {
        "colab": {
          "base_uri": "https://localhost:8080/"
        },
        "id": "_LRQ9YDZhoCf",
        "outputId": "1dabb509-51bc-4965-a5e4-821b30049a08"
      },
      "source": [
        "df.shape"
      ],
      "execution_count": null,
      "outputs": [
        {
          "output_type": "execute_result",
          "data": {
            "text/plain": [
              "(274, 3)"
            ]
          },
          "metadata": {},
          "execution_count": 5
        }
      ]
    },
    {
      "cell_type": "code",
      "metadata": {
        "id": "qG6NRgkojNHk"
      },
      "source": [
        "df = df [df['Source']=='GISTEMP']"
      ],
      "execution_count": null,
      "outputs": []
    },
    {
      "cell_type": "code",
      "metadata": {
        "colab": {
          "base_uri": "https://localhost:8080/",
          "height": 203
        },
        "id": "_SkWOmf9jvzA",
        "outputId": "4bddf310-a0e8-45a2-b3f1-044d5c3d3ff5"
      },
      "source": [
        "df.head()"
      ],
      "execution_count": null,
      "outputs": [
        {
          "output_type": "execute_result",
          "data": {
            "text/html": [
              "<div>\n",
              "<style scoped>\n",
              "    .dataframe tbody tr th:only-of-type {\n",
              "        vertical-align: middle;\n",
              "    }\n",
              "\n",
              "    .dataframe tbody tr th {\n",
              "        vertical-align: top;\n",
              "    }\n",
              "\n",
              "    .dataframe thead th {\n",
              "        text-align: right;\n",
              "    }\n",
              "</style>\n",
              "<table border=\"1\" class=\"dataframe\">\n",
              "  <thead>\n",
              "    <tr style=\"text-align: right;\">\n",
              "      <th></th>\n",
              "      <th>Source</th>\n",
              "      <th>Year</th>\n",
              "      <th>Mean</th>\n",
              "    </tr>\n",
              "  </thead>\n",
              "  <tbody>\n",
              "    <tr>\n",
              "      <th>1</th>\n",
              "      <td>GISTEMP</td>\n",
              "      <td>2016</td>\n",
              "      <td>0.99</td>\n",
              "    </tr>\n",
              "    <tr>\n",
              "      <th>3</th>\n",
              "      <td>GISTEMP</td>\n",
              "      <td>2015</td>\n",
              "      <td>0.87</td>\n",
              "    </tr>\n",
              "    <tr>\n",
              "      <th>5</th>\n",
              "      <td>GISTEMP</td>\n",
              "      <td>2014</td>\n",
              "      <td>0.74</td>\n",
              "    </tr>\n",
              "    <tr>\n",
              "      <th>7</th>\n",
              "      <td>GISTEMP</td>\n",
              "      <td>2013</td>\n",
              "      <td>0.65</td>\n",
              "    </tr>\n",
              "    <tr>\n",
              "      <th>9</th>\n",
              "      <td>GISTEMP</td>\n",
              "      <td>2012</td>\n",
              "      <td>0.63</td>\n",
              "    </tr>\n",
              "  </tbody>\n",
              "</table>\n",
              "</div>"
            ],
            "text/plain": [
              "    Source  Year  Mean\n",
              "1  GISTEMP  2016  0.99\n",
              "3  GISTEMP  2015  0.87\n",
              "5  GISTEMP  2014  0.74\n",
              "7  GISTEMP  2013  0.65\n",
              "9  GISTEMP  2012  0.63"
            ]
          },
          "metadata": {},
          "execution_count": 7
        }
      ]
    },
    {
      "cell_type": "code",
      "metadata": {
        "colab": {
          "base_uri": "https://localhost:8080/",
          "height": 203
        },
        "id": "wAwqnXjvkIwb",
        "outputId": "4b1fb56c-bc1e-4da6-b981-65c3bec008e8"
      },
      "source": [
        "df = df.reset_index()[['Source','Year','Mean']]\n",
        "df.head()"
      ],
      "execution_count": null,
      "outputs": [
        {
          "output_type": "execute_result",
          "data": {
            "text/html": [
              "<div>\n",
              "<style scoped>\n",
              "    .dataframe tbody tr th:only-of-type {\n",
              "        vertical-align: middle;\n",
              "    }\n",
              "\n",
              "    .dataframe tbody tr th {\n",
              "        vertical-align: top;\n",
              "    }\n",
              "\n",
              "    .dataframe thead th {\n",
              "        text-align: right;\n",
              "    }\n",
              "</style>\n",
              "<table border=\"1\" class=\"dataframe\">\n",
              "  <thead>\n",
              "    <tr style=\"text-align: right;\">\n",
              "      <th></th>\n",
              "      <th>Source</th>\n",
              "      <th>Year</th>\n",
              "      <th>Mean</th>\n",
              "    </tr>\n",
              "  </thead>\n",
              "  <tbody>\n",
              "    <tr>\n",
              "      <th>0</th>\n",
              "      <td>GISTEMP</td>\n",
              "      <td>2016</td>\n",
              "      <td>0.99</td>\n",
              "    </tr>\n",
              "    <tr>\n",
              "      <th>1</th>\n",
              "      <td>GISTEMP</td>\n",
              "      <td>2015</td>\n",
              "      <td>0.87</td>\n",
              "    </tr>\n",
              "    <tr>\n",
              "      <th>2</th>\n",
              "      <td>GISTEMP</td>\n",
              "      <td>2014</td>\n",
              "      <td>0.74</td>\n",
              "    </tr>\n",
              "    <tr>\n",
              "      <th>3</th>\n",
              "      <td>GISTEMP</td>\n",
              "      <td>2013</td>\n",
              "      <td>0.65</td>\n",
              "    </tr>\n",
              "    <tr>\n",
              "      <th>4</th>\n",
              "      <td>GISTEMP</td>\n",
              "      <td>2012</td>\n",
              "      <td>0.63</td>\n",
              "    </tr>\n",
              "  </tbody>\n",
              "</table>\n",
              "</div>"
            ],
            "text/plain": [
              "    Source  Year  Mean\n",
              "0  GISTEMP  2016  0.99\n",
              "1  GISTEMP  2015  0.87\n",
              "2  GISTEMP  2014  0.74\n",
              "3  GISTEMP  2013  0.65\n",
              "4  GISTEMP  2012  0.63"
            ]
          },
          "metadata": {},
          "execution_count": 8
        }
      ]
    },
    {
      "cell_type": "code",
      "metadata": {
        "colab": {
          "base_uri": "https://localhost:8080/",
          "height": 371
        },
        "id": "OKl2KSuClA7Q",
        "outputId": "3733dc61-431c-487c-8d51-efd0aee256f0"
      },
      "source": [
        "sb.set()\n",
        "sb.lineplot(df['Year'],df['Mean'])\n",
        "plt.title (\"Mean Global Temperature by Year\")"
      ],
      "execution_count": null,
      "outputs": [
        {
          "output_type": "stream",
          "name": "stderr",
          "text": [
            "/usr/local/lib/python3.7/dist-packages/seaborn/_decorators.py:43: FutureWarning: Pass the following variables as keyword args: x, y. From version 0.12, the only valid positional argument will be `data`, and passing other arguments without an explicit keyword will result in an error or misinterpretation.\n",
            "  FutureWarning\n"
          ]
        },
        {
          "output_type": "execute_result",
          "data": {
            "text/plain": [
              "Text(0.5, 1.0, 'Mean Global Temperature by Year')"
            ]
          },
          "metadata": {},
          "execution_count": 9
        },
        {
          "output_type": "display_data",
          "data": {
            "image/png": "[encoded data removed]",
            "text/plain": [
              "<Figure size 432x288 with 1 Axes>"
            ]
          },
          "metadata": {}
        }
      ]
    },
    {
      "cell_type": "markdown",
      "metadata": {
        "id": "rGfwjoNoWaOw"
      },
      "source": [
        "Result\n",
        "\n",
        "The above graph shows ud the Mean Temperature by Year globally from the year 1880 to the year 2020. \n",
        "\n",
        "As we can see here that the graph is not constant , the line keeps on changing either upwards or downwards. But also there hasn't been a major rise or major downfall. And Overall in 2020 its at the peak which is a positive thing.\n"
      ]
    },
    {
      "cell_type": "code",
      "metadata": {
        "colab": {
          "base_uri": "https://localhost:8080/",
          "height": 357
        },
        "id": "TT06smXMl9nG",
        "outputId": "fdaee813-bc1c-4e4b-ac28-50cbd722e7e4"
      },
      "source": [
        "df_sugar = pd.read_csv ('/content/sugar-cane-yields.csv')\n",
        "df_sugar.tail(10)"
      ],
      "execution_count": null,
      "outputs": [
        {
          "output_type": "execute_result",
          "data": {
            "text/html": [
              "<div>\n",
              "<style scoped>\n",
              "    .dataframe tbody tr th:only-of-type {\n",
              "        vertical-align: middle;\n",
              "    }\n",
              "\n",
              "    .dataframe tbody tr th {\n",
              "        vertical-align: top;\n",
              "    }\n",
              "\n",
              "    .dataframe thead th {\n",
              "        text-align: right;\n",
              "    }\n",
              "</style>\n",
              "<table border=\"1\" class=\"dataframe\">\n",
              "  <thead>\n",
              "    <tr style=\"text-align: right;\">\n",
              "      <th></th>\n",
              "      <th>Entity</th>\n",
              "      <th>Code</th>\n",
              "      <th>Year</th>\n",
              "      <th>Crops - Sugar cane - 156 - Yield - 5419 - hg/ha</th>\n",
              "    </tr>\n",
              "  </thead>\n",
              "  <tbody>\n",
              "    <tr>\n",
              "      <th>7580</th>\n",
              "      <td>Zimbabwe</td>\n",
              "      <td>ZWE</td>\n",
              "      <td>2009</td>\n",
              "      <td>64.6403</td>\n",
              "    </tr>\n",
              "    <tr>\n",
              "      <th>7581</th>\n",
              "      <td>Zimbabwe</td>\n",
              "      <td>ZWE</td>\n",
              "      <td>2010</td>\n",
              "      <td>66.2027</td>\n",
              "    </tr>\n",
              "    <tr>\n",
              "      <th>7582</th>\n",
              "      <td>Zimbabwe</td>\n",
              "      <td>ZWE</td>\n",
              "      <td>2011</td>\n",
              "      <td>71.4019</td>\n",
              "    </tr>\n",
              "    <tr>\n",
              "      <th>7583</th>\n",
              "      <td>Zimbabwe</td>\n",
              "      <td>ZWE</td>\n",
              "      <td>2012</td>\n",
              "      <td>73.4595</td>\n",
              "    </tr>\n",
              "    <tr>\n",
              "      <th>7584</th>\n",
              "      <td>Zimbabwe</td>\n",
              "      <td>ZWE</td>\n",
              "      <td>2013</td>\n",
              "      <td>84.9694</td>\n",
              "    </tr>\n",
              "    <tr>\n",
              "      <th>7585</th>\n",
              "      <td>Zimbabwe</td>\n",
              "      <td>ZWE</td>\n",
              "      <td>2014</td>\n",
              "      <td>89.4228</td>\n",
              "    </tr>\n",
              "    <tr>\n",
              "      <th>7586</th>\n",
              "      <td>Zimbabwe</td>\n",
              "      <td>ZWE</td>\n",
              "      <td>2015</td>\n",
              "      <td>77.6906</td>\n",
              "    </tr>\n",
              "    <tr>\n",
              "      <th>7587</th>\n",
              "      <td>Zimbabwe</td>\n",
              "      <td>ZWE</td>\n",
              "      <td>2016</td>\n",
              "      <td>80.0690</td>\n",
              "    </tr>\n",
              "    <tr>\n",
              "      <th>7588</th>\n",
              "      <td>Zimbabwe</td>\n",
              "      <td>ZWE</td>\n",
              "      <td>2017</td>\n",
              "      <td>80.0368</td>\n",
              "    </tr>\n",
              "    <tr>\n",
              "      <th>7589</th>\n",
              "      <td>Zimbabwe</td>\n",
              "      <td>ZWE</td>\n",
              "      <td>2018</td>\n",
              "      <td>81.0336</td>\n",
              "    </tr>\n",
              "  </tbody>\n",
              "</table>\n",
              "</div>"
            ],
            "text/plain": [
              "        Entity Code  Year  Crops - Sugar cane - 156 - Yield - 5419 - hg/ha\n",
              "7580  Zimbabwe  ZWE  2009                                          64.6403\n",
              "7581  Zimbabwe  ZWE  2010                                          66.2027\n",
              "7582  Zimbabwe  ZWE  2011                                          71.4019\n",
              "7583  Zimbabwe  ZWE  2012                                          73.4595\n",
              "7584  Zimbabwe  ZWE  2013                                          84.9694\n",
              "7585  Zimbabwe  ZWE  2014                                          89.4228\n",
              "7586  Zimbabwe  ZWE  2015                                          77.6906\n",
              "7587  Zimbabwe  ZWE  2016                                          80.0690\n",
              "7588  Zimbabwe  ZWE  2017                                          80.0368\n",
              "7589  Zimbabwe  ZWE  2018                                          81.0336"
            ]
          },
          "metadata": {},
          "execution_count": 10
        }
      ]
    },
    {
      "cell_type": "code",
      "metadata": {
        "colab": {
          "base_uri": "https://localhost:8080/",
          "height": 203
        },
        "id": "PYJ_NjmzoAsp",
        "outputId": "841944f3-259d-4313-b7fc-f7cedeee245b"
      },
      "source": [
        "df_sugar = df_sugar.rename(columns = {'Crops - Sugar cane - 156 - Yield - 5419 - hg/ha': 'SC-hg/ha'})\n",
        "df_sugar.head()"
      ],
      "execution_count": null,
      "outputs": [
        {
          "output_type": "execute_result",
          "data": {
            "text/html": [
              "<div>\n",
              "<style scoped>\n",
              "    .dataframe tbody tr th:only-of-type {\n",
              "        vertical-align: middle;\n",
              "    }\n",
              "\n",
              "    .dataframe tbody tr th {\n",
              "        vertical-align: top;\n",
              "    }\n",
              "\n",
              "    .dataframe thead th {\n",
              "        text-align: right;\n",
              "    }\n",
              "</style>\n",
              "<table border=\"1\" class=\"dataframe\">\n",
              "  <thead>\n",
              "    <tr style=\"text-align: right;\">\n",
              "      <th></th>\n",
              "      <th>Entity</th>\n",
              "      <th>Code</th>\n",
              "      <th>Year</th>\n",
              "      <th>SC-hg/ha</th>\n",
              "    </tr>\n",
              "  </thead>\n",
              "  <tbody>\n",
              "    <tr>\n",
              "      <th>0</th>\n",
              "      <td>Afghanistan</td>\n",
              "      <td>AFG</td>\n",
              "      <td>1961</td>\n",
              "      <td>25.0</td>\n",
              "    </tr>\n",
              "    <tr>\n",
              "      <th>1</th>\n",
              "      <td>Afghanistan</td>\n",
              "      <td>AFG</td>\n",
              "      <td>1962</td>\n",
              "      <td>25.0</td>\n",
              "    </tr>\n",
              "    <tr>\n",
              "      <th>2</th>\n",
              "      <td>Afghanistan</td>\n",
              "      <td>AFG</td>\n",
              "      <td>1963</td>\n",
              "      <td>25.0</td>\n",
              "    </tr>\n",
              "    <tr>\n",
              "      <th>3</th>\n",
              "      <td>Afghanistan</td>\n",
              "      <td>AFG</td>\n",
              "      <td>1964</td>\n",
              "      <td>25.0</td>\n",
              "    </tr>\n",
              "    <tr>\n",
              "      <th>4</th>\n",
              "      <td>Afghanistan</td>\n",
              "      <td>AFG</td>\n",
              "      <td>1965</td>\n",
              "      <td>25.5</td>\n",
              "    </tr>\n",
              "  </tbody>\n",
              "</table>\n",
              "</div>"
            ],
            "text/plain": [
              "        Entity Code  Year  SC-hg/ha\n",
              "0  Afghanistan  AFG  1961      25.0\n",
              "1  Afghanistan  AFG  1962      25.0\n",
              "2  Afghanistan  AFG  1963      25.0\n",
              "3  Afghanistan  AFG  1964      25.0\n",
              "4  Afghanistan  AFG  1965      25.5"
            ]
          },
          "metadata": {},
          "execution_count": 11
        }
      ]
    },
    {
      "cell_type": "code",
      "metadata": {
        "colab": {
          "base_uri": "https://localhost:8080/"
        },
        "id": "M-Dqubo3pFYi",
        "outputId": "8b227ea2-4b67-48f0-87aa-3036b9c5d1e4"
      },
      "source": [
        "country = set(df_sugar['Entity'].values)\n",
        "print(country)"
      ],
      "execution_count": null,
      "outputs": [
        {
          "output_type": "stream",
          "name": "stdout",
          "text": [
            "{'Senegal', 'Sudan (former)', 'Mexico', 'Middle Africa', 'Brazil', 'Bangladesh', 'Indonesia', 'Saint Lucia', 'Trinidad and Tobago', 'Net Food Importing Developing Countries', 'Melanesia', 'Asia', 'Caribbean', 'Sierra Leone', 'Southern Asia', 'Eastern Asia', 'Honduras', 'Samoa', 'Reunion', 'Madagascar', 'Oceania', 'Oman', 'Belize', 'Mauritius', 'Cuba', 'South Eastern Asia', 'Americas', 'Wallis and Futuna', 'Gabon', 'Taiwan', 'Africa', 'Burundi', 'French Polynesia', 'Australia', 'Guyana', 'United States Virgin Islands', 'Thailand', 'China', 'Bhutan', 'Cape Verde', 'Land Locked Developing Countries', 'Zimbabwe', 'Central America', 'Iran', 'Cambodia', 'Panama', 'Syria', 'Venezuela', 'Australia & New Zealand', 'Zambia', 'Singapore', 'Sudan', 'Philippines', 'European Union', 'Western Africa', 'Myanmar', 'Tanzania', 'Malaysia', 'Cameroon', 'Northern America', 'Saint Kitts and Nevis', 'Chad', 'Mali', 'Nepal', 'World', 'Sri Lanka', 'Ghana', 'Japan', 'Guatemala', 'Barbados', 'Portugal', 'French Guiana', 'Argentina', 'Eastern Africa', 'Europe', 'Puerto Rico', 'Bahamas', 'Martinique', 'Costa Rica', 'Democratic Republic of Congo', 'India', 'Somalia', 'Congo', 'Uruguay', 'Eswatini', 'Spain', 'Ethiopia', 'Western Asia', 'Mozambique', 'Europe, Western', 'Dominican Republic', 'Papua New Guinea', 'Guinea', 'Peru', 'Burkina Faso', 'Ecuador', 'Polynesia', 'South Africa', 'American Samoa', 'Nicaragua', \"Cote d'Ivoire\", 'Kenya', 'Morocco', 'Bolivia', 'Niger', 'Central African Republic', 'Antigua and Barbuda', 'Guadeloupe', 'Malawi', 'Southern Europe', 'Least Developed Countries', 'Dominica', 'Saint Vincent and the Grenadines', 'Paraguay', 'Liberia', 'Fiji', 'United States', 'Vietnam', 'Iraq', 'Nigeria', 'Benin', 'Lebanon', 'South America', 'Suriname', 'Grenada', 'Laos', 'Egypt', 'Guinea-Bissau', 'Northern Africa', 'Yemen', 'Ethiopia PDR', 'Colombia', 'Low Income Food Deficit Countries', 'Rwanda', 'Afghanistan', 'Southern Africa', 'El Salvador', 'Angola', 'Small island developing States', 'Uganda', 'Haiti', 'France', 'Pakistan', 'Jamaica'}\n"
          ]
        }
      ]
    },
    {
      "cell_type": "code",
      "metadata": {
        "colab": {
          "base_uri": "https://localhost:8080/"
        },
        "id": "THVHReCcp93P",
        "outputId": "2ea0ba69-bda5-48eb-d83d-7d12dc6a1082"
      },
      "source": [
        "len(country)"
      ],
      "execution_count": null,
      "outputs": [
        {
          "output_type": "execute_result",
          "data": {
            "text/plain": [
              "144"
            ]
          },
          "metadata": {},
          "execution_count": 13
        }
      ]
    },
    {
      "cell_type": "code",
      "metadata": {
        "id": "pW96UHf2qOlw"
      },
      "source": [
        "df_sugar = df_sugar.drop('Code',axis=1)"
      ],
      "execution_count": null,
      "outputs": []
    },
    {
      "cell_type": "code",
      "metadata": {
        "colab": {
          "base_uri": "https://localhost:8080/",
          "height": 203
        },
        "id": "TMUR11iarqae",
        "outputId": "da3a128e-97d7-408c-f84d-d34aff380d96"
      },
      "source": [
        "df_sugar = df_sugar[df_sugar['Entity']=='Nigeria'].reset_index()[['Entity','Year','SC-hg/ha']]\n",
        "df_sugar.head()"
      ],
      "execution_count": null,
      "outputs": [
        {
          "output_type": "execute_result",
          "data": {
            "text/html": [
              "<div>\n",
              "<style scoped>\n",
              "    .dataframe tbody tr th:only-of-type {\n",
              "        vertical-align: middle;\n",
              "    }\n",
              "\n",
              "    .dataframe tbody tr th {\n",
              "        vertical-align: top;\n",
              "    }\n",
              "\n",
              "    .dataframe thead th {\n",
              "        text-align: right;\n",
              "    }\n",
              "</style>\n",
              "<table border=\"1\" class=\"dataframe\">\n",
              "  <thead>\n",
              "    <tr style=\"text-align: right;\">\n",
              "      <th></th>\n",
              "      <th>Entity</th>\n",
              "      <th>Year</th>\n",
              "      <th>SC-hg/ha</th>\n",
              "    </tr>\n",
              "  </thead>\n",
              "  <tbody>\n",
              "    <tr>\n",
              "      <th>0</th>\n",
              "      <td>Nigeria</td>\n",
              "      <td>1961</td>\n",
              "      <td>24.5714</td>\n",
              "    </tr>\n",
              "    <tr>\n",
              "      <th>1</th>\n",
              "      <td>Nigeria</td>\n",
              "      <td>1962</td>\n",
              "      <td>24.6667</td>\n",
              "    </tr>\n",
              "    <tr>\n",
              "      <th>2</th>\n",
              "      <td>Nigeria</td>\n",
              "      <td>1963</td>\n",
              "      <td>27.8947</td>\n",
              "    </tr>\n",
              "    <tr>\n",
              "      <th>3</th>\n",
              "      <td>Nigeria</td>\n",
              "      <td>1964</td>\n",
              "      <td>30.2609</td>\n",
              "    </tr>\n",
              "    <tr>\n",
              "      <th>4</th>\n",
              "      <td>Nigeria</td>\n",
              "      <td>1965</td>\n",
              "      <td>33.4815</td>\n",
              "    </tr>\n",
              "  </tbody>\n",
              "</table>\n",
              "</div>"
            ],
            "text/plain": [
              "    Entity  Year  SC-hg/ha\n",
              "0  Nigeria  1961   24.5714\n",
              "1  Nigeria  1962   24.6667\n",
              "2  Nigeria  1963   27.8947\n",
              "3  Nigeria  1964   30.2609\n",
              "4  Nigeria  1965   33.4815"
            ]
          },
          "metadata": {},
          "execution_count": 14
        }
      ]
    },
    {
      "cell_type": "code",
      "metadata": {
        "colab": {
          "base_uri": "https://localhost:8080/",
          "height": 367
        },
        "id": "FBkVWw7WsEGO",
        "outputId": "7c59287b-78e5-4b5a-8122-b5ac9493d1b8"
      },
      "source": [
        "sb.set()\n",
        "sb.lineplot(df_sugar['Year'],df_sugar['SC-hg/ha'])\n",
        "plt.ylabel(\"Mean temperature Sugarcane in Nigeria\")\n"
      ],
      "execution_count": null,
      "outputs": [
        {
          "output_type": "stream",
          "name": "stderr",
          "text": [
            "/usr/local/lib/python3.7/dist-packages/seaborn/_decorators.py:43: FutureWarning: Pass the following variables as keyword args: x, y. From version 0.12, the only valid positional argument will be `data`, and passing other arguments without an explicit keyword will result in an error or misinterpretation.\n",
            "  FutureWarning\n"
          ]
        },
        {
          "output_type": "execute_result",
          "data": {
            "text/plain": [
              "Text(0, 0.5, 'Mean temperature Sugarcane in Nigeria')"
            ]
          },
          "metadata": {},
          "execution_count": 15
        },
        {
          "output_type": "display_data",
          "data": {
            "image/png": "[encoded data removed]",
            "text/plain": [
              "<Figure size 432x288 with 1 Axes>"
            ]
          },
          "metadata": {}
        }
      ]
    },
    {
      "cell_type": "markdown",
      "metadata": {
        "id": "5N2Kf_ncSX20"
      },
      "source": [
        "**Result**:\n",
        "\n",
        "The above graph shows us the Mean Temperature of Sugarcane in Nigeria by Year from 1960 to 2020, \n",
        "Here we can see that there was a drastic drop in the production of Sugarcane in Nigeria from the past 50-60 years. \n",
        "\n",
        "Market for sugarcane farming can be very lucrative. It is important to note that the agricultural land in the country is more than enough to cultivate the sugar cane we need for sugar production.\n",
        "Hence it is important to divide the land for different crop productiin in Nigeria.\n",
        "\n"
      ]
    },
    {
      "cell_type": "markdown",
      "metadata": {
        "id": "1uhEtqU-RkVY"
      },
      "source": [
        "\n",
        " "
      ]
    },
    {
      "cell_type": "code",
      "metadata": {
        "id": "4F-DwQ-OvF9V",
        "colab": {
          "base_uri": "https://localhost:8080/",
          "height": 511
        },
        "outputId": "d6766306-5249-4b4b-afe6-b9f6785059e6"
      },
      "source": [
        "df_wheat = pd.read_csv ('/content/wheat-yields.csv')\n",
        "df_wheat.head(15)"
      ],
      "execution_count": 42,
      "outputs": [
        {
          "output_type": "execute_result",
          "data": {
            "text/html": [
              "<div>\n",
              "<style scoped>\n",
              "    .dataframe tbody tr th:only-of-type {\n",
              "        vertical-align: middle;\n",
              "    }\n",
              "\n",
              "    .dataframe tbody tr th {\n",
              "        vertical-align: top;\n",
              "    }\n",
              "\n",
              "    .dataframe thead th {\n",
              "        text-align: right;\n",
              "    }\n",
              "</style>\n",
              "<table border=\"1\" class=\"dataframe\">\n",
              "  <thead>\n",
              "    <tr style=\"text-align: right;\">\n",
              "      <th></th>\n",
              "      <th>Entity</th>\n",
              "      <th>Code</th>\n",
              "      <th>Year</th>\n",
              "      <th>Crops - Wheat - 15 - Yield - 5419 - hg/ha</th>\n",
              "    </tr>\n",
              "  </thead>\n",
              "  <tbody>\n",
              "    <tr>\n",
              "      <th>0</th>\n",
              "      <td>Afghanistan</td>\n",
              "      <td>AFG</td>\n",
              "      <td>1961</td>\n",
              "      <td>1.0220</td>\n",
              "    </tr>\n",
              "    <tr>\n",
              "      <th>1</th>\n",
              "      <td>Afghanistan</td>\n",
              "      <td>AFG</td>\n",
              "      <td>1962</td>\n",
              "      <td>0.9735</td>\n",
              "    </tr>\n",
              "    <tr>\n",
              "      <th>2</th>\n",
              "      <td>Afghanistan</td>\n",
              "      <td>AFG</td>\n",
              "      <td>1963</td>\n",
              "      <td>0.8317</td>\n",
              "    </tr>\n",
              "    <tr>\n",
              "      <th>3</th>\n",
              "      <td>Afghanistan</td>\n",
              "      <td>AFG</td>\n",
              "      <td>1964</td>\n",
              "      <td>0.9510</td>\n",
              "    </tr>\n",
              "    <tr>\n",
              "      <th>4</th>\n",
              "      <td>Afghanistan</td>\n",
              "      <td>AFG</td>\n",
              "      <td>1965</td>\n",
              "      <td>0.9723</td>\n",
              "    </tr>\n",
              "    <tr>\n",
              "      <th>5</th>\n",
              "      <td>Afghanistan</td>\n",
              "      <td>AFG</td>\n",
              "      <td>1966</td>\n",
              "      <td>0.8666</td>\n",
              "    </tr>\n",
              "    <tr>\n",
              "      <th>6</th>\n",
              "      <td>Afghanistan</td>\n",
              "      <td>AFG</td>\n",
              "      <td>1967</td>\n",
              "      <td>1.1232</td>\n",
              "    </tr>\n",
              "    <tr>\n",
              "      <th>7</th>\n",
              "      <td>Afghanistan</td>\n",
              "      <td>AFG</td>\n",
              "      <td>1968</td>\n",
              "      <td>1.1562</td>\n",
              "    </tr>\n",
              "    <tr>\n",
              "      <th>8</th>\n",
              "      <td>Afghanistan</td>\n",
              "      <td>AFG</td>\n",
              "      <td>1969</td>\n",
              "      <td>1.1855</td>\n",
              "    </tr>\n",
              "    <tr>\n",
              "      <th>9</th>\n",
              "      <td>Afghanistan</td>\n",
              "      <td>AFG</td>\n",
              "      <td>1970</td>\n",
              "      <td>0.9563</td>\n",
              "    </tr>\n",
              "    <tr>\n",
              "      <th>10</th>\n",
              "      <td>Afghanistan</td>\n",
              "      <td>AFG</td>\n",
              "      <td>1971</td>\n",
              "      <td>0.8149</td>\n",
              "    </tr>\n",
              "    <tr>\n",
              "      <th>11</th>\n",
              "      <td>Afghanistan</td>\n",
              "      <td>AFG</td>\n",
              "      <td>1972</td>\n",
              "      <td>0.8457</td>\n",
              "    </tr>\n",
              "    <tr>\n",
              "      <th>12</th>\n",
              "      <td>Afghanistan</td>\n",
              "      <td>AFG</td>\n",
              "      <td>1973</td>\n",
              "      <td>1.1739</td>\n",
              "    </tr>\n",
              "    <tr>\n",
              "      <th>13</th>\n",
              "      <td>Afghanistan</td>\n",
              "      <td>AFG</td>\n",
              "      <td>1974</td>\n",
              "      <td>1.2074</td>\n",
              "    </tr>\n",
              "    <tr>\n",
              "      <th>14</th>\n",
              "      <td>Afghanistan</td>\n",
              "      <td>AFG</td>\n",
              "      <td>1975</td>\n",
              "      <td>1.2128</td>\n",
              "    </tr>\n",
              "  </tbody>\n",
              "</table>\n",
              "</div>"
            ],
            "text/plain": [
              "         Entity Code  Year  Crops - Wheat - 15 - Yield - 5419 - hg/ha\n",
              "0   Afghanistan  AFG  1961                                     1.0220\n",
              "1   Afghanistan  AFG  1962                                     0.9735\n",
              "2   Afghanistan  AFG  1963                                     0.8317\n",
              "3   Afghanistan  AFG  1964                                     0.9510\n",
              "4   Afghanistan  AFG  1965                                     0.9723\n",
              "5   Afghanistan  AFG  1966                                     0.8666\n",
              "6   Afghanistan  AFG  1967                                     1.1232\n",
              "7   Afghanistan  AFG  1968                                     1.1562\n",
              "8   Afghanistan  AFG  1969                                     1.1855\n",
              "9   Afghanistan  AFG  1970                                     0.9563\n",
              "10  Afghanistan  AFG  1971                                     0.8149\n",
              "11  Afghanistan  AFG  1972                                     0.8457\n",
              "12  Afghanistan  AFG  1973                                     1.1739\n",
              "13  Afghanistan  AFG  1974                                     1.2074\n",
              "14  Afghanistan  AFG  1975                                     1.2128"
            ]
          },
          "metadata": {},
          "execution_count": 42
        }
      ]
    },
    {
      "cell_type": "code",
      "metadata": {
        "colab": {
          "base_uri": "https://localhost:8080/"
        },
        "id": "PDPS6uG6Mhp6",
        "outputId": "e99b22a0-bc3e-468f-e2d4-6c72000c7110"
      },
      "source": [
        "df_wheat.shape\n",
        "len(df_wheat)"
      ],
      "execution_count": null,
      "outputs": [
        {
          "output_type": "execute_result",
          "data": {
            "text/plain": [
              "8101"
            ]
          },
          "metadata": {},
          "execution_count": 17
        }
      ]
    },
    {
      "cell_type": "code",
      "metadata": {
        "colab": {
          "base_uri": "https://localhost:8080/"
        },
        "id": "lQoHcUObOhe9",
        "outputId": "18a1f425-ae18-4cb1-97aa-8c82b9df4bbb"
      },
      "source": [
        "country = set(df_wheat['Entity'].values)\n",
        "print(country)"
      ],
      "execution_count": null,
      "outputs": [
        {
          "output_type": "stream",
          "name": "stdout",
          "text": [
            "{'Kyrgyzstan', 'Sudan (former)', 'Mexico', 'Middle Africa', 'Brazil', 'Bulgaria', 'Bangladesh', 'Netherlands', 'Net Food Importing Developing Countries', 'Turkmenistan', 'Algeria', 'Melanesia', 'United Arab Emirates', 'Czechia', 'Eastern Europe', 'Libya', 'Asia', 'Southern Asia', 'Czechoslovakia', 'Eastern Asia', 'Honduras', 'Hungary', 'Kazakhstan', 'Madagascar', 'Serbia and Montenegro', 'North Macedonia', 'Tunisia', 'Oceania', 'Oman', 'Lesotho', 'Poland', 'Malta', 'Serbia', 'South Eastern Asia', 'Americas', 'Taiwan', 'Africa', 'Burundi', 'Chile', 'Australia', 'Thailand', 'Yugoslavia', 'China', 'Norway', 'USSR', 'Bhutan', 'Land Locked Developing Countries', 'Zimbabwe', 'Central America', 'Iran', 'Saudi Arabia', 'Lithuania', 'Syria', 'New Caledonia', 'Venezuela', 'Australia & New Zealand', 'Zambia', 'Sudan', 'European Union', 'Western Africa', 'Myanmar', 'Tanzania', 'Asia, Central', 'Cameroon', 'Northern America', 'Israel', 'Chad', 'Georgia', 'Mali', 'Armenia', 'Nepal', 'World', 'Namibia', 'Cyprus', 'Japan', 'Mongolia', 'Guatemala', 'Portugal', 'Denmark', 'Argentina', 'Turkey', 'Eastern Africa', 'Europe', 'Latvia', 'Democratic Republic of Congo', 'Canada', 'India', 'North Korea', 'Switzerland', 'Somalia', 'Uruguay', 'Northern Europe', 'Romania', 'Slovakia', 'Eritrea', 'Palestine', 'Eswatini', 'Uzbekistan', 'Jordan', 'Kuwait', 'Spain', 'Azerbaijan', 'Ethiopia', 'Western Asia', 'Russia', 'Mozambique', 'Europe, Western', 'Belgium-Luxembourg', 'Slovenia', 'Peru', 'Italy', 'Ecuador', 'South Africa', 'Albania', 'Finland', 'Montenegro', 'Kenya', 'Morocco', 'Luxembourg', 'Bolivia', 'Niger', 'South Korea', 'Croatia', 'Malawi', 'Southern Europe', 'Least Developed Countries', 'Paraguay', 'Germany', 'United States', 'Ukraine', 'Iraq', 'Nigeria', 'Mauritania', 'Tajikistan', 'Lebanon', 'Botswana', 'Sweden', 'South America', 'Egypt', 'Northern Africa', 'Greece', 'Yemen', 'Estonia', 'Ethiopia PDR', 'Colombia', 'Austria', 'Moldova', 'Bosnia and Herzegovina', 'Low Income Food Deficit Countries', 'United Kingdom', 'Rwanda', 'Afghanistan', 'Southern Africa', 'Belgium', 'Angola', 'Belarus', 'Qatar', 'Small island developing States', 'Uganda', 'France', 'Ireland', 'New Zealand', 'Pakistan'}\n"
          ]
        }
      ]
    },
    {
      "cell_type": "code",
      "metadata": {
        "colab": {
          "base_uri": "https://localhost:8080/"
        },
        "id": "KHmtAQ6pPLwm",
        "outputId": "8c5b6bbf-d71a-4ecb-c67d-3a7b805d7858"
      },
      "source": [
        "len(country)"
      ],
      "execution_count": null,
      "outputs": [
        {
          "output_type": "execute_result",
          "data": {
            "text/plain": [
              "163"
            ]
          },
          "metadata": {},
          "execution_count": 19
        }
      ]
    },
    {
      "cell_type": "code",
      "metadata": {
        "colab": {
          "base_uri": "https://localhost:8080/",
          "height": 1000
        },
        "id": "MT9dt7w8S7iF",
        "outputId": "d8f98990-1bab-40fe-db4f-e8a917265d3e"
      },
      "source": [
        "df_wheat = df_wheat.rename(columns = {'Crops - Wheat - 15 - Yield - 5419 - hg/ha': 'Wheat-hg/ha'})\n",
        "df_wheat.tail(35)"
      ],
      "execution_count": null,
      "outputs": [
        {
          "output_type": "execute_result",
          "data": {
            "text/html": [
              "<div>\n",
              "<style scoped>\n",
              "    .dataframe tbody tr th:only-of-type {\n",
              "        vertical-align: middle;\n",
              "    }\n",
              "\n",
              "    .dataframe tbody tr th {\n",
              "        vertical-align: top;\n",
              "    }\n",
              "\n",
              "    .dataframe thead th {\n",
              "        text-align: right;\n",
              "    }\n",
              "</style>\n",
              "<table border=\"1\" class=\"dataframe\">\n",
              "  <thead>\n",
              "    <tr style=\"text-align: right;\">\n",
              "      <th></th>\n",
              "      <th>Entity</th>\n",
              "      <th>Code</th>\n",
              "      <th>Year</th>\n",
              "      <th>Wheat-hg/ha</th>\n",
              "    </tr>\n",
              "  </thead>\n",
              "  <tbody>\n",
              "    <tr>\n",
              "      <th>8066</th>\n",
              "      <td>Zimbabwe</td>\n",
              "      <td>ZWE</td>\n",
              "      <td>1984</td>\n",
              "      <td>5.8611</td>\n",
              "    </tr>\n",
              "    <tr>\n",
              "      <th>8067</th>\n",
              "      <td>Zimbabwe</td>\n",
              "      <td>ZWE</td>\n",
              "      <td>1985</td>\n",
              "      <td>5.4544</td>\n",
              "    </tr>\n",
              "    <tr>\n",
              "      <th>8068</th>\n",
              "      <td>Zimbabwe</td>\n",
              "      <td>ZWE</td>\n",
              "      <td>1986</td>\n",
              "      <td>5.9130</td>\n",
              "    </tr>\n",
              "    <tr>\n",
              "      <th>8069</th>\n",
              "      <td>Zimbabwe</td>\n",
              "      <td>ZWE</td>\n",
              "      <td>1987</td>\n",
              "      <td>5.7986</td>\n",
              "    </tr>\n",
              "    <tr>\n",
              "      <th>8070</th>\n",
              "      <td>Zimbabwe</td>\n",
              "      <td>ZWE</td>\n",
              "      <td>1988</td>\n",
              "      <td>5.7091</td>\n",
              "    </tr>\n",
              "    <tr>\n",
              "      <th>8071</th>\n",
              "      <td>Zimbabwe</td>\n",
              "      <td>ZWE</td>\n",
              "      <td>1989</td>\n",
              "      <td>5.6767</td>\n",
              "    </tr>\n",
              "    <tr>\n",
              "      <th>8072</th>\n",
              "      <td>Zimbabwe</td>\n",
              "      <td>ZWE</td>\n",
              "      <td>1990</td>\n",
              "      <td>5.8211</td>\n",
              "    </tr>\n",
              "    <tr>\n",
              "      <th>8073</th>\n",
              "      <td>Zimbabwe</td>\n",
              "      <td>ZWE</td>\n",
              "      <td>1991</td>\n",
              "      <td>5.8912</td>\n",
              "    </tr>\n",
              "    <tr>\n",
              "      <th>8074</th>\n",
              "      <td>Zimbabwe</td>\n",
              "      <td>ZWE</td>\n",
              "      <td>1992</td>\n",
              "      <td>5.0893</td>\n",
              "    </tr>\n",
              "    <tr>\n",
              "      <th>8075</th>\n",
              "      <td>Zimbabwe</td>\n",
              "      <td>ZWE</td>\n",
              "      <td>1993</td>\n",
              "      <td>5.7708</td>\n",
              "    </tr>\n",
              "    <tr>\n",
              "      <th>8076</th>\n",
              "      <td>Zimbabwe</td>\n",
              "      <td>ZWE</td>\n",
              "      <td>1994</td>\n",
              "      <td>5.4649</td>\n",
              "    </tr>\n",
              "    <tr>\n",
              "      <th>8077</th>\n",
              "      <td>Zimbabwe</td>\n",
              "      <td>ZWE</td>\n",
              "      <td>1995</td>\n",
              "      <td>5.0360</td>\n",
              "    </tr>\n",
              "    <tr>\n",
              "      <th>8078</th>\n",
              "      <td>Zimbabwe</td>\n",
              "      <td>ZWE</td>\n",
              "      <td>1996</td>\n",
              "      <td>5.4999</td>\n",
              "    </tr>\n",
              "    <tr>\n",
              "      <th>8079</th>\n",
              "      <td>Zimbabwe</td>\n",
              "      <td>ZWE</td>\n",
              "      <td>1997</td>\n",
              "      <td>5.6000</td>\n",
              "    </tr>\n",
              "    <tr>\n",
              "      <th>8080</th>\n",
              "      <td>Zimbabwe</td>\n",
              "      <td>ZWE</td>\n",
              "      <td>1998</td>\n",
              "      <td>5.5000</td>\n",
              "    </tr>\n",
              "    <tr>\n",
              "      <th>8081</th>\n",
              "      <td>Zimbabwe</td>\n",
              "      <td>ZWE</td>\n",
              "      <td>1999</td>\n",
              "      <td>5.5000</td>\n",
              "    </tr>\n",
              "    <tr>\n",
              "      <th>8082</th>\n",
              "      <td>Zimbabwe</td>\n",
              "      <td>ZWE</td>\n",
              "      <td>2000</td>\n",
              "      <td>5.4000</td>\n",
              "    </tr>\n",
              "    <tr>\n",
              "      <th>8083</th>\n",
              "      <td>Zimbabwe</td>\n",
              "      <td>ZWE</td>\n",
              "      <td>2001</td>\n",
              "      <td>5.3000</td>\n",
              "    </tr>\n",
              "    <tr>\n",
              "      <th>8084</th>\n",
              "      <td>Zimbabwe</td>\n",
              "      <td>ZWE</td>\n",
              "      <td>2002</td>\n",
              "      <td>5.0000</td>\n",
              "    </tr>\n",
              "    <tr>\n",
              "      <th>8085</th>\n",
              "      <td>Zimbabwe</td>\n",
              "      <td>ZWE</td>\n",
              "      <td>2003</td>\n",
              "      <td>3.0000</td>\n",
              "    </tr>\n",
              "    <tr>\n",
              "      <th>8086</th>\n",
              "      <td>Zimbabwe</td>\n",
              "      <td>ZWE</td>\n",
              "      <td>2004</td>\n",
              "      <td>3.5000</td>\n",
              "    </tr>\n",
              "    <tr>\n",
              "      <th>8087</th>\n",
              "      <td>Zimbabwe</td>\n",
              "      <td>ZWE</td>\n",
              "      <td>2005</td>\n",
              "      <td>3.5000</td>\n",
              "    </tr>\n",
              "    <tr>\n",
              "      <th>8088</th>\n",
              "      <td>Zimbabwe</td>\n",
              "      <td>ZWE</td>\n",
              "      <td>2006</td>\n",
              "      <td>3.6000</td>\n",
              "    </tr>\n",
              "    <tr>\n",
              "      <th>8089</th>\n",
              "      <td>Zimbabwe</td>\n",
              "      <td>ZWE</td>\n",
              "      <td>2007</td>\n",
              "      <td>2.9998</td>\n",
              "    </tr>\n",
              "    <tr>\n",
              "      <th>8090</th>\n",
              "      <td>Zimbabwe</td>\n",
              "      <td>ZWE</td>\n",
              "      <td>2008</td>\n",
              "      <td>3.0097</td>\n",
              "    </tr>\n",
              "    <tr>\n",
              "      <th>8091</th>\n",
              "      <td>Zimbabwe</td>\n",
              "      <td>ZWE</td>\n",
              "      <td>2009</td>\n",
              "      <td>3.0000</td>\n",
              "    </tr>\n",
              "    <tr>\n",
              "      <th>8092</th>\n",
              "      <td>Zimbabwe</td>\n",
              "      <td>ZWE</td>\n",
              "      <td>2010</td>\n",
              "      <td>2.7788</td>\n",
              "    </tr>\n",
              "    <tr>\n",
              "      <th>8093</th>\n",
              "      <td>Zimbabwe</td>\n",
              "      <td>ZWE</td>\n",
              "      <td>2011</td>\n",
              "      <td>2.6604</td>\n",
              "    </tr>\n",
              "    <tr>\n",
              "      <th>8094</th>\n",
              "      <td>Zimbabwe</td>\n",
              "      <td>ZWE</td>\n",
              "      <td>2012</td>\n",
              "      <td>2.4902</td>\n",
              "    </tr>\n",
              "    <tr>\n",
              "      <th>8095</th>\n",
              "      <td>Zimbabwe</td>\n",
              "      <td>ZWE</td>\n",
              "      <td>2013</td>\n",
              "      <td>2.3430</td>\n",
              "    </tr>\n",
              "    <tr>\n",
              "      <th>8096</th>\n",
              "      <td>Zimbabwe</td>\n",
              "      <td>ZWE</td>\n",
              "      <td>2014</td>\n",
              "      <td>2.2094</td>\n",
              "    </tr>\n",
              "    <tr>\n",
              "      <th>8097</th>\n",
              "      <td>Zimbabwe</td>\n",
              "      <td>ZWE</td>\n",
              "      <td>2015</td>\n",
              "      <td>2.0486</td>\n",
              "    </tr>\n",
              "    <tr>\n",
              "      <th>8098</th>\n",
              "      <td>Zimbabwe</td>\n",
              "      <td>ZWE</td>\n",
              "      <td>2016</td>\n",
              "      <td>1.9013</td>\n",
              "    </tr>\n",
              "    <tr>\n",
              "      <th>8099</th>\n",
              "      <td>Zimbabwe</td>\n",
              "      <td>ZWE</td>\n",
              "      <td>2017</td>\n",
              "      <td>1.7542</td>\n",
              "    </tr>\n",
              "    <tr>\n",
              "      <th>8100</th>\n",
              "      <td>Zimbabwe</td>\n",
              "      <td>ZWE</td>\n",
              "      <td>2018</td>\n",
              "      <td>2.0010</td>\n",
              "    </tr>\n",
              "  </tbody>\n",
              "</table>\n",
              "</div>"
            ],
            "text/plain": [
              "        Entity Code  Year  Wheat-hg/ha\n",
              "8066  Zimbabwe  ZWE  1984       5.8611\n",
              "8067  Zimbabwe  ZWE  1985       5.4544\n",
              "8068  Zimbabwe  ZWE  1986       5.9130\n",
              "8069  Zimbabwe  ZWE  1987       5.7986\n",
              "8070  Zimbabwe  ZWE  1988       5.7091\n",
              "8071  Zimbabwe  ZWE  1989       5.6767\n",
              "8072  Zimbabwe  ZWE  1990       5.8211\n",
              "8073  Zimbabwe  ZWE  1991       5.8912\n",
              "8074  Zimbabwe  ZWE  1992       5.0893\n",
              "8075  Zimbabwe  ZWE  1993       5.7708\n",
              "8076  Zimbabwe  ZWE  1994       5.4649\n",
              "8077  Zimbabwe  ZWE  1995       5.0360\n",
              "8078  Zimbabwe  ZWE  1996       5.4999\n",
              "8079  Zimbabwe  ZWE  1997       5.6000\n",
              "8080  Zimbabwe  ZWE  1998       5.5000\n",
              "8081  Zimbabwe  ZWE  1999       5.5000\n",
              "8082  Zimbabwe  ZWE  2000       5.4000\n",
              "8083  Zimbabwe  ZWE  2001       5.3000\n",
              "8084  Zimbabwe  ZWE  2002       5.0000\n",
              "8085  Zimbabwe  ZWE  2003       3.0000\n",
              "8086  Zimbabwe  ZWE  2004       3.5000\n",
              "8087  Zimbabwe  ZWE  2005       3.5000\n",
              "8088  Zimbabwe  ZWE  2006       3.6000\n",
              "8089  Zimbabwe  ZWE  2007       2.9998\n",
              "8090  Zimbabwe  ZWE  2008       3.0097\n",
              "8091  Zimbabwe  ZWE  2009       3.0000\n",
              "8092  Zimbabwe  ZWE  2010       2.7788\n",
              "8093  Zimbabwe  ZWE  2011       2.6604\n",
              "8094  Zimbabwe  ZWE  2012       2.4902\n",
              "8095  Zimbabwe  ZWE  2013       2.3430\n",
              "8096  Zimbabwe  ZWE  2014       2.2094\n",
              "8097  Zimbabwe  ZWE  2015       2.0486\n",
              "8098  Zimbabwe  ZWE  2016       1.9013\n",
              "8099  Zimbabwe  ZWE  2017       1.7542\n",
              "8100  Zimbabwe  ZWE  2018       2.0010"
            ]
          },
          "metadata": {},
          "execution_count": 20
        }
      ]
    },
    {
      "cell_type": "code",
      "metadata": {
        "colab": {
          "base_uri": "https://localhost:8080/",
          "height": 203
        },
        "id": "IKr5VyOneoqK",
        "outputId": "4ad7edbf-27cd-4e64-c4be-1d2bd3a1f5ef"
      },
      "source": [
        "df_wheat = df_wheat[df_wheat['Entity']=='South Korea'].reset_index()[['Entity','Year','Wheat-hg/ha']]\n",
        "df_wheat.head()"
      ],
      "execution_count": null,
      "outputs": [
        {
          "output_type": "execute_result",
          "data": {
            "text/html": [
              "<div>\n",
              "<style scoped>\n",
              "    .dataframe tbody tr th:only-of-type {\n",
              "        vertical-align: middle;\n",
              "    }\n",
              "\n",
              "    .dataframe tbody tr th {\n",
              "        vertical-align: top;\n",
              "    }\n",
              "\n",
              "    .dataframe thead th {\n",
              "        text-align: right;\n",
              "    }\n",
              "</style>\n",
              "<table border=\"1\" class=\"dataframe\">\n",
              "  <thead>\n",
              "    <tr style=\"text-align: right;\">\n",
              "      <th></th>\n",
              "      <th>Entity</th>\n",
              "      <th>Year</th>\n",
              "      <th>Wheat-hg/ha</th>\n",
              "    </tr>\n",
              "  </thead>\n",
              "  <tbody>\n",
              "    <tr>\n",
              "      <th>0</th>\n",
              "      <td>South Korea</td>\n",
              "      <td>1961</td>\n",
              "      <td>2.2657</td>\n",
              "    </tr>\n",
              "    <tr>\n",
              "      <th>1</th>\n",
              "      <td>South Korea</td>\n",
              "      <td>1962</td>\n",
              "      <td>2.0093</td>\n",
              "    </tr>\n",
              "    <tr>\n",
              "      <th>2</th>\n",
              "      <td>South Korea</td>\n",
              "      <td>1963</td>\n",
              "      <td>1.6559</td>\n",
              "    </tr>\n",
              "    <tr>\n",
              "      <th>3</th>\n",
              "      <td>South Korea</td>\n",
              "      <td>1964</td>\n",
              "      <td>2.1219</td>\n",
              "    </tr>\n",
              "    <tr>\n",
              "      <th>4</th>\n",
              "      <td>South Korea</td>\n",
              "      <td>1965</td>\n",
              "      <td>1.9800</td>\n",
              "    </tr>\n",
              "  </tbody>\n",
              "</table>\n",
              "</div>"
            ],
            "text/plain": [
              "        Entity  Year  Wheat-hg/ha\n",
              "0  South Korea  1961       2.2657\n",
              "1  South Korea  1962       2.0093\n",
              "2  South Korea  1963       1.6559\n",
              "3  South Korea  1964       2.1219\n",
              "4  South Korea  1965       1.9800"
            ]
          },
          "metadata": {},
          "execution_count": 21
        }
      ]
    },
    {
      "cell_type": "code",
      "metadata": {
        "colab": {
          "base_uri": "https://localhost:8080/",
          "height": 405
        },
        "id": "GhRlx7f_TXcH",
        "outputId": "7737e24e-5ab3-49b7-8a6a-a2c63e79e65b"
      },
      "source": [
        "sb.set()\n",
        "sb.lineplot(df['Year'],df['Mean'])\n",
        "sb.lineplot(df_wheat['Year'],df_wheat['Wheat-hg/ha'])\n",
        "plt.title (\"South Korea\")"
      ],
      "execution_count": null,
      "outputs": [
        {
          "output_type": "stream",
          "name": "stderr",
          "text": [
            "/usr/local/lib/python3.7/dist-packages/seaborn/_decorators.py:43: FutureWarning: Pass the following variables as keyword args: x, y. From version 0.12, the only valid positional argument will be `data`, and passing other arguments without an explicit keyword will result in an error or misinterpretation.\n",
            "  FutureWarning\n",
            "/usr/local/lib/python3.7/dist-packages/seaborn/_decorators.py:43: FutureWarning: Pass the following variables as keyword args: x, y. From version 0.12, the only valid positional argument will be `data`, and passing other arguments without an explicit keyword will result in an error or misinterpretation.\n",
            "  FutureWarning\n"
          ]
        },
        {
          "output_type": "execute_result",
          "data": {
            "text/plain": [
              "Text(0.5, 1.0, 'South Korea')"
            ]
          },
          "metadata": {},
          "execution_count": 22
        },
        {
          "output_type": "display_data",
          "data": {
            "image/png": "[encoded data removed]",
            "text/plain": [
              "<Figure size 432x288 with 1 Axes>"
            ]
          },
          "metadata": {}
        }
      ]
    },
    {
      "cell_type": "markdown",
      "metadata": {
        "id": "aLUw6dPuQRKj"
      },
      "source": [
        "**Result**\n",
        "\n",
        "The above graph is about the wheat production in South Korea from the year 1880 to 2020. Here we can see that the production never remained constant but comparing 2020 to 1880 it has definitely increased which is a positive outcome. \n",
        "\n",
        "South Korea hasn't been advancing in wheat production if compared globally. It is not self sufficient when comes to wheat hence it has to import wheat from the United States followed by Autrailia and Canada. "
      ]
    },
    {
      "cell_type": "code",
      "metadata": {
        "colab": {
          "base_uri": "https://localhost:8080/",
          "height": 357
        },
        "id": "Cqd5wsLdT-iy",
        "outputId": "52d5d563-4c47-4017-934c-995f83d1792f"
      },
      "source": [
        "df_rice = pd.read_csv ('/content/rice-yields.csv')\n",
        "df_rice.head(10)"
      ],
      "execution_count": 43,
      "outputs": [
        {
          "output_type": "execute_result",
          "data": {
            "text/html": [
              "<div>\n",
              "<style scoped>\n",
              "    .dataframe tbody tr th:only-of-type {\n",
              "        vertical-align: middle;\n",
              "    }\n",
              "\n",
              "    .dataframe tbody tr th {\n",
              "        vertical-align: top;\n",
              "    }\n",
              "\n",
              "    .dataframe thead th {\n",
              "        text-align: right;\n",
              "    }\n",
              "</style>\n",
              "<table border=\"1\" class=\"dataframe\">\n",
              "  <thead>\n",
              "    <tr style=\"text-align: right;\">\n",
              "      <th></th>\n",
              "      <th>Entity</th>\n",
              "      <th>Code</th>\n",
              "      <th>Year</th>\n",
              "      <th>Crops - Cereals (Rice Milled Eqv) - 1817 - Yield - 5419 - hg/ha</th>\n",
              "    </tr>\n",
              "  </thead>\n",
              "  <tbody>\n",
              "    <tr>\n",
              "      <th>0</th>\n",
              "      <td>Afghanistan</td>\n",
              "      <td>AFG</td>\n",
              "      <td>1961</td>\n",
              "      <td>1.0831</td>\n",
              "    </tr>\n",
              "    <tr>\n",
              "      <th>1</th>\n",
              "      <td>Afghanistan</td>\n",
              "      <td>AFG</td>\n",
              "      <td>1962</td>\n",
              "      <td>1.0480</td>\n",
              "    </tr>\n",
              "    <tr>\n",
              "      <th>2</th>\n",
              "      <td>Afghanistan</td>\n",
              "      <td>AFG</td>\n",
              "      <td>1963</td>\n",
              "      <td>0.9548</td>\n",
              "    </tr>\n",
              "    <tr>\n",
              "      <th>3</th>\n",
              "      <td>Afghanistan</td>\n",
              "      <td>AFG</td>\n",
              "      <td>1964</td>\n",
              "      <td>1.0461</td>\n",
              "    </tr>\n",
              "    <tr>\n",
              "      <th>4</th>\n",
              "      <td>Afghanistan</td>\n",
              "      <td>AFG</td>\n",
              "      <td>1965</td>\n",
              "      <td>1.0621</td>\n",
              "    </tr>\n",
              "    <tr>\n",
              "      <th>5</th>\n",
              "      <td>Afghanistan</td>\n",
              "      <td>AFG</td>\n",
              "      <td>1966</td>\n",
              "      <td>0.9798</td>\n",
              "    </tr>\n",
              "    <tr>\n",
              "      <th>6</th>\n",
              "      <td>Afghanistan</td>\n",
              "      <td>AFG</td>\n",
              "      <td>1967</td>\n",
              "      <td>1.1823</td>\n",
              "    </tr>\n",
              "    <tr>\n",
              "      <th>7</th>\n",
              "      <td>Afghanistan</td>\n",
              "      <td>AFG</td>\n",
              "      <td>1968</td>\n",
              "      <td>1.2435</td>\n",
              "    </tr>\n",
              "    <tr>\n",
              "      <th>8</th>\n",
              "      <td>Afghanistan</td>\n",
              "      <td>AFG</td>\n",
              "      <td>1969</td>\n",
              "      <td>1.2664</td>\n",
              "    </tr>\n",
              "    <tr>\n",
              "      <th>9</th>\n",
              "      <td>Afghanistan</td>\n",
              "      <td>AFG</td>\n",
              "      <td>1970</td>\n",
              "      <td>1.0667</td>\n",
              "    </tr>\n",
              "  </tbody>\n",
              "</table>\n",
              "</div>"
            ],
            "text/plain": [
              "        Entity  ... Crops - Cereals (Rice Milled Eqv) - 1817 - Yield - 5419 - hg/ha\n",
              "0  Afghanistan  ...                                             1.0831             \n",
              "1  Afghanistan  ...                                             1.0480             \n",
              "2  Afghanistan  ...                                             0.9548             \n",
              "3  Afghanistan  ...                                             1.0461             \n",
              "4  Afghanistan  ...                                             1.0621             \n",
              "5  Afghanistan  ...                                             0.9798             \n",
              "6  Afghanistan  ...                                             1.1823             \n",
              "7  Afghanistan  ...                                             1.2435             \n",
              "8  Afghanistan  ...                                             1.2664             \n",
              "9  Afghanistan  ...                                             1.0667             \n",
              "\n",
              "[10 rows x 4 columns]"
            ]
          },
          "metadata": {},
          "execution_count": 43
        }
      ]
    },
    {
      "cell_type": "code",
      "metadata": {
        "colab": {
          "base_uri": "https://localhost:8080/"
        },
        "id": "br01f46VUO88",
        "outputId": "5163ec13-b86d-45d4-a1f2-5853a12ce496"
      },
      "source": [
        "df_rice.shape\n",
        "len(df_rice)"
      ],
      "execution_count": 44,
      "outputs": [
        {
          "output_type": "execute_result",
          "data": {
            "text/plain": [
              "11789"
            ]
          },
          "metadata": {},
          "execution_count": 44
        }
      ]
    },
    {
      "cell_type": "code",
      "metadata": {
        "colab": {
          "base_uri": "https://localhost:8080/"
        },
        "id": "dsrnaY6SUmfa",
        "outputId": "b2342dc7-f0ed-4298-bead-eca4363911c8"
      },
      "source": [
        "country = set(df_rice['Entity'].values)\n",
        "print(country)"
      ],
      "execution_count": 45,
      "outputs": [
        {
          "output_type": "stream",
          "name": "stdout",
          "text": [
            "{'Kyrgyzstan', 'Senegal', 'Sudan (former)', 'Djibouti', 'Mexico', 'Middle Africa', 'Brazil', 'Bulgaria', 'Bangladesh', 'Indonesia', 'Netherlands', 'Saint Lucia', 'Trinidad and Tobago', 'Net Food Importing Developing Countries', 'Turkmenistan', 'Algeria', 'Melanesia', 'Togo', 'United Arab Emirates', 'Czechia', 'Eastern Europe', 'Libya', 'Asia', 'Caribbean', 'Sierra Leone', 'Southern Asia', 'Czechoslovakia', 'Eastern Asia', 'Honduras', 'Hungary', 'Micronesia (country)', 'Kazakhstan', 'Madagascar', 'Reunion', 'Serbia and Montenegro', 'North Macedonia', 'Tunisia', 'Oceania', 'Oman', 'Belize', 'Mauritius', 'Lesotho', 'Cuba', 'Malta', 'Poland', 'Serbia', 'South Eastern Asia', 'Americas', 'South Sudan', 'Gabon', 'Taiwan', 'Africa', 'Montserrat', 'Burundi', 'Chile', 'Australia', 'Guyana', 'Thailand', 'Yugoslavia', 'China', 'Norway', 'Guam', 'USSR', 'Bhutan', 'Cape Verde', 'Land Locked Developing Countries', 'Zimbabwe', 'Central America', 'Iran', 'Cambodia', 'Panama', 'Lithuania', 'Saudi Arabia', 'New Caledonia', 'Syria', 'Australia & New Zealand', 'Venezuela', 'Zambia', 'Sudan', 'Philippines', 'European Union', 'Western Africa', 'Myanmar', 'Tanzania', 'Asia, Central', 'Western Sahara', 'Solomon Islands', 'Malaysia', 'Cameroon', 'Northern America', 'Israel', 'Chad', 'Georgia', 'Mali', 'Armenia', 'Nepal', 'World', 'Sri Lanka', 'Namibia', 'Hong Kong', 'Cyprus', 'Ghana', 'Pacific Islands Trust Territory', 'Japan', 'Mongolia', 'Barbados', 'Guatemala', 'Comoros', 'French Guiana', 'Portugal', 'Denmark', 'Argentina', 'Iceland', 'Sao Tome and Principe', 'Eastern Africa', 'Turkey', 'Micronesia (region)', 'Europe', 'Puerto Rico', 'Latvia', 'Bahamas', 'Costa Rica', 'Democratic Republic of Congo', 'Canada', 'India', 'North Korea', 'Switzerland', 'Somalia', 'Congo', 'Uruguay', 'Northern Europe', 'Romania', 'Slovakia', 'Eritrea', 'Palestine', 'Eswatini', 'Uzbekistan', 'Maldives', 'Jordan', 'Kuwait', 'Spain', 'Azerbaijan', 'Ethiopia', 'Western Asia', 'Russia', 'Mozambique', 'Europe, Western', 'Dominican Republic', 'Papua New Guinea', 'Belgium-Luxembourg', 'Guinea', 'Peru', 'Slovenia', 'Burkina Faso', 'Italy', 'Ecuador', 'South Africa', 'Albania', 'Finland', 'Montenegro', 'Nicaragua', \"Cote d'Ivoire\", 'Kenya', 'Morocco', 'Luxembourg', 'Timor', 'Bolivia', 'Niger', 'South Korea', 'Croatia', 'Central African Republic', 'Antigua and Barbuda', 'Guadeloupe', 'Malawi', 'Southern Europe', 'Vanuatu', 'Least Developed Countries', 'Dominica', 'Saint Vincent and the Grenadines', 'Paraguay', 'Liberia', 'Fiji', 'Germany', 'United States', 'Vietnam', 'Ukraine', 'Iraq', 'Nigeria', 'Mauritania', 'Benin', 'Tajikistan', 'Lebanon', 'Botswana', 'Sweden', 'South America', 'Suriname', 'Grenada', 'Laos', 'Egypt', 'Guinea-Bissau', 'Northern Africa', 'Greece', 'Yemen', 'Estonia', 'Ethiopia PDR', 'Colombia', 'Austria', 'Moldova', 'Bosnia and Herzegovina', 'Low Income Food Deficit Countries', 'United Kingdom', 'Rwanda', 'Gambia', 'Afghanistan', 'Southern Africa', 'Belgium', 'Angola', 'Brunei', 'El Salvador', 'Belarus', 'Qatar', 'Small island developing States', 'Uganda', 'Haiti', 'France', 'Ireland', 'New Zealand', 'Pakistan', 'Jamaica'}\n"
          ]
        }
      ]
    },
    {
      "cell_type": "code",
      "metadata": {
        "colab": {
          "base_uri": "https://localhost:8080/"
        },
        "id": "CVpbUZsQUrZz",
        "outputId": "5885a49c-284d-4043-be7c-1186d44c9d5a"
      },
      "source": [
        "len(country)"
      ],
      "execution_count": 46,
      "outputs": [
        {
          "output_type": "execute_result",
          "data": {
            "text/plain": [
              "229"
            ]
          },
          "metadata": {},
          "execution_count": 46
        }
      ]
    },
    {
      "cell_type": "code",
      "metadata": {
        "colab": {
          "base_uri": "https://localhost:8080/",
          "height": 203
        },
        "id": "hGo0OWtsUur3",
        "outputId": "fd3e534f-90e5-4191-efb4-10b5a02728a1"
      },
      "source": [
        "df_rice = df_rice.rename(columns = {'Crops - Cereals (Rice Milled Eqv) - 1817 - Yield - 5419 - hg/ha': 'Rice-hg/ha'})\n",
        "df_rice.tail(5)"
      ],
      "execution_count": 47,
      "outputs": [
        {
          "output_type": "execute_result",
          "data": {
            "text/html": [
              "<div>\n",
              "<style scoped>\n",
              "    .dataframe tbody tr th:only-of-type {\n",
              "        vertical-align: middle;\n",
              "    }\n",
              "\n",
              "    .dataframe tbody tr th {\n",
              "        vertical-align: top;\n",
              "    }\n",
              "\n",
              "    .dataframe thead th {\n",
              "        text-align: right;\n",
              "    }\n",
              "</style>\n",
              "<table border=\"1\" class=\"dataframe\">\n",
              "  <thead>\n",
              "    <tr style=\"text-align: right;\">\n",
              "      <th></th>\n",
              "      <th>Entity</th>\n",
              "      <th>Code</th>\n",
              "      <th>Year</th>\n",
              "      <th>Rice-hg/ha</th>\n",
              "    </tr>\n",
              "  </thead>\n",
              "  <tbody>\n",
              "    <tr>\n",
              "      <th>11784</th>\n",
              "      <td>Zimbabwe</td>\n",
              "      <td>ZWE</td>\n",
              "      <td>2014</td>\n",
              "      <td>0.8243</td>\n",
              "    </tr>\n",
              "    <tr>\n",
              "      <th>11785</th>\n",
              "      <td>Zimbabwe</td>\n",
              "      <td>ZWE</td>\n",
              "      <td>2015</td>\n",
              "      <td>0.5584</td>\n",
              "    </tr>\n",
              "    <tr>\n",
              "      <th>11786</th>\n",
              "      <td>Zimbabwe</td>\n",
              "      <td>ZWE</td>\n",
              "      <td>2016</td>\n",
              "      <td>0.4349</td>\n",
              "    </tr>\n",
              "    <tr>\n",
              "      <th>11787</th>\n",
              "      <td>Zimbabwe</td>\n",
              "      <td>ZWE</td>\n",
              "      <td>2017</td>\n",
              "      <td>0.6219</td>\n",
              "    </tr>\n",
              "    <tr>\n",
              "      <th>11788</th>\n",
              "      <td>Zimbabwe</td>\n",
              "      <td>ZWE</td>\n",
              "      <td>2018</td>\n",
              "      <td>0.5789</td>\n",
              "    </tr>\n",
              "  </tbody>\n",
              "</table>\n",
              "</div>"
            ],
            "text/plain": [
              "         Entity Code  Year  Rice-hg/ha\n",
              "11784  Zimbabwe  ZWE  2014      0.8243\n",
              "11785  Zimbabwe  ZWE  2015      0.5584\n",
              "11786  Zimbabwe  ZWE  2016      0.4349\n",
              "11787  Zimbabwe  ZWE  2017      0.6219\n",
              "11788  Zimbabwe  ZWE  2018      0.5789"
            ]
          },
          "metadata": {},
          "execution_count": 47
        }
      ]
    },
    {
      "cell_type": "code",
      "metadata": {
        "colab": {
          "base_uri": "https://localhost:8080/",
          "height": 203
        },
        "id": "f7N3tD5zWRPO",
        "outputId": "01a7dbd0-714e-4fbf-de7a-706668952f95"
      },
      "source": [
        "df_rice = df_rice[df_rice['Entity']=='China'].reset_index()[['Entity','Year','Rice-hg/ha']]\n",
        "df_rice.head()"
      ],
      "execution_count": 49,
      "outputs": [
        {
          "output_type": "execute_result",
          "data": {
            "text/html": [
              "<div>\n",
              "<style scoped>\n",
              "    .dataframe tbody tr th:only-of-type {\n",
              "        vertical-align: middle;\n",
              "    }\n",
              "\n",
              "    .dataframe tbody tr th {\n",
              "        vertical-align: top;\n",
              "    }\n",
              "\n",
              "    .dataframe thead th {\n",
              "        text-align: right;\n",
              "    }\n",
              "</style>\n",
              "<table border=\"1\" class=\"dataframe\">\n",
              "  <thead>\n",
              "    <tr style=\"text-align: right;\">\n",
              "      <th></th>\n",
              "      <th>Entity</th>\n",
              "      <th>Year</th>\n",
              "      <th>Rice-hg/ha</th>\n",
              "    </tr>\n",
              "  </thead>\n",
              "  <tbody>\n",
              "    <tr>\n",
              "      <th>0</th>\n",
              "      <td>China</td>\n",
              "      <td>1961</td>\n",
              "      <td>1.0043</td>\n",
              "    </tr>\n",
              "    <tr>\n",
              "      <th>1</th>\n",
              "      <td>China</td>\n",
              "      <td>1962</td>\n",
              "      <td>1.0979</td>\n",
              "    </tr>\n",
              "    <tr>\n",
              "      <th>2</th>\n",
              "      <td>China</td>\n",
              "      <td>1963</td>\n",
              "      <td>1.2279</td>\n",
              "    </tr>\n",
              "    <tr>\n",
              "      <th>3</th>\n",
              "      <td>China</td>\n",
              "      <td>1964</td>\n",
              "      <td>1.3323</td>\n",
              "    </tr>\n",
              "    <tr>\n",
              "      <th>4</th>\n",
              "      <td>China</td>\n",
              "      <td>1965</td>\n",
              "      <td>1.4357</td>\n",
              "    </tr>\n",
              "  </tbody>\n",
              "</table>\n",
              "</div>"
            ],
            "text/plain": [
              "  Entity  Year  Rice-hg/ha\n",
              "0  China  1961      1.0043\n",
              "1  China  1962      1.0979\n",
              "2  China  1963      1.2279\n",
              "3  China  1964      1.3323\n",
              "4  China  1965      1.4357"
            ]
          },
          "metadata": {},
          "execution_count": 49
        }
      ]
    },
    {
      "cell_type": "code",
      "metadata": {
        "colab": {
          "base_uri": "https://localhost:8080/",
          "height": 405
        },
        "id": "RyeSk4UlWh3d",
        "outputId": "7e7147aa-44e5-4edc-c23b-ccc466cecf98"
      },
      "source": [
        "sb.set()\n",
        "sb.lineplot(df['Year'],df['Mean'])\n",
        "sb.lineplot(df_rice['Year'],df_rice['Rice-hg/ha'])\n",
        "plt.title (\"China\")"
      ],
      "execution_count": 51,
      "outputs": [
        {
          "output_type": "stream",
          "name": "stderr",
          "text": [
            "/usr/local/lib/python3.7/dist-packages/seaborn/_decorators.py:43: FutureWarning: Pass the following variables as keyword args: x, y. From version 0.12, the only valid positional argument will be `data`, and passing other arguments without an explicit keyword will result in an error or misinterpretation.\n",
            "  FutureWarning\n",
            "/usr/local/lib/python3.7/dist-packages/seaborn/_decorators.py:43: FutureWarning: Pass the following variables as keyword args: x, y. From version 0.12, the only valid positional argument will be `data`, and passing other arguments without an explicit keyword will result in an error or misinterpretation.\n",
            "  FutureWarning\n"
          ]
        },
        {
          "output_type": "execute_result",
          "data": {
            "text/plain": [
              "Text(0.5, 1.0, 'China')"
            ]
          },
          "metadata": {},
          "execution_count": 51
        },
        {
          "output_type": "display_data",
          "data": {
            "image/png": "[encoded data removed]",
            "text/plain": [
              "<Figure size 432x288 with 1 Axes>"
            ]
          },
          "metadata": {}
        }
      ]
    },
    {
      "cell_type": "markdown",
      "metadata": {
        "id": "BWIyAwblWy4B"
      },
      "source": [
        "**Result**\n",
        "\n",
        "The above graph is of rice production in China from the year 1880-2020. Here it is observed that the production has constantly increased it has never had a downfall. \n",
        "\n",
        "China is the world's largest producer of rice, making up 30% of global rice production. It produces the highest rice yields in Asia . Rice is produced throughout the nation and is believed to have been domesticated around the Yangtze River Valley and Yellow River. \n",
        "China is still the top global importer and consumer of rice."
      ]
    }
  ]
}